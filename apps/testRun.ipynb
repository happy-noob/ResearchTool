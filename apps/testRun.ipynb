{
 "cells": [
  {
   "cell_type": "code",
   "execution_count": null,
   "metadata": {
    "collapsed": true
   },
   "outputs": [],
   "source": [
    "import random\n",
    "from PIL import Image\n",
    "from PIL import ImageEnhance\n",
    "import os\n",
    "import cv2\n",
    "import numpy as np\n",
    "from multiprocessing import Process, Manager\n",
    "from utils import fileProcess\n",
    "PATH = 'E:\\\\Projects\\\\PythonCode\\\\ResearchTool\\\\'\n",
    "PATH_TEST_DATA = 'E:/Projects/PythonCode/ResearchTool/testData/'\n",
    "path_map = {'images': 'testData/Img/','pseudo_images': 'testData/Img/pseudo_images/',\n",
    "            'remove_white_img':'testData/Img/remove_white_img/'}"
   ]
  },
  {
   "cell_type": "code",
   "execution_count": 1,
   "outputs": [
    {
     "name": "stdout",
     "output_type": "stream",
     "text": [
      "e84b6348-c56c-44a5-9118-41f6ccbba2b5\n"
     ]
    }
   ],
   "source": [
    "import uuid\n",
    "print(type(uuid.uuid4()))"
   ],
   "metadata": {
    "collapsed": false,
    "pycharm": {
     "name": "#%%测试utils\n"
    }
   }
  },
  {
   "cell_type": "code",
   "execution_count": null,
   "outputs": [],
   "source": [
    "import imgaug as ia\n",
    "import imgaug.augmenters as iaa\n",
    "import augmentation.imgAugmentation.remove_white_edges\n",
    "source_path = path_map['images'] + '1.png'\n",
    "fileProcess.find_image_file(source_path=source_path,file_path_list=)\n",
    "\n"
   ],
   "metadata": {
    "collapsed": false,
    "pycharm": {
     "name": "#%%测试imgaug\n"
    }
   }
  }
 ],
 "metadata": {
  "kernelspec": {
   "display_name": "Python 3",
   "language": "python",
   "name": "python3"
  },
  "language_info": {
   "codemirror_mode": {
    "name": "ipython",
    "version": 2
   },
   "file_extension": ".py",
   "mimetype": "text/x-python",
   "name": "python",
   "nbconvert_exporter": "python",
   "pygments_lexer": "ipython2",
   "version": "2.7.6"
  }
 },
 "nbformat": 4,
 "nbformat_minor": 0
}